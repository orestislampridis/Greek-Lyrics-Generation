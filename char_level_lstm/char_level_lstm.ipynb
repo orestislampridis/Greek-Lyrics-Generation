{
  "nbformat": 4,
  "nbformat_minor": 0,
  "metadata": {
    "colab": {
      "name": "Text gen 4 char.ipynb",
      "provenance": [],
      "collapsed_sections": [],
      "include_colab_link": true
    },
    "kernelspec": {
      "name": "python3",
      "display_name": "Python 3"
    },
    "accelerator": "GPU"
  },
  "cells": [
    {
      "cell_type": "markdown",
      "metadata": {
        "id": "view-in-github",
        "colab_type": "text"
      },
      "source": [
        "<a href=\"https://colab.research.google.com/github/orestislampridis/Greek-Lyric-Generation/blob/master/char_level_lstm.ipynb\" target=\"_parent\"><img src=\"https://colab.research.google.com/assets/colab-badge.svg\" alt=\"Open In Colab\"/></a>"
      ]
    },
    {
      "cell_type": "code",
      "metadata": {
        "id": "dM9yBPtF6VZT",
        "colab_type": "code",
        "colab": {}
      },
      "source": [
        "#Import dependencies\n",
        "import tensorflow as tf\n",
        "from keras.models import Sequential\n",
        "from keras.layers import LSTM, Bidirectional, Activation, Dropout, Dense,CuDNNLSTM, Embedding,GRU, CuDNNGRU\n",
        "from keras.callbacks import *\n",
        "from keras.optimizers import Adam\n",
        "from keras.utils import np_utils\n",
        "import numpy as np\n",
        "import pandas as pd\n",
        "import sys\n"
      ],
      "execution_count": 0,
      "outputs": []
    },
    {
      "cell_type": "code",
      "metadata": {
        "id": "Td1YNodF6biu",
        "colab_type": "code",
        "outputId": "2bfac0f0-176d-4aa6-ebd7-8954759eb952",
        "colab": {
          "base_uri": "https://localhost:8080/",
          "height": 35
        }
      },
      "source": [
        "#Get data from google drive\n",
        "def get_from_drive():\n",
        "  from google.colab import drive\n",
        "  drive.mount('/content/drive')\n",
        "  with open('/content/drive/My Drive/Colab Notebooks/entexna.txt', 'r') as f: \n",
        "  text = f.read()\n",
        "  return text"
      ],
      "execution_count": 16,
      "outputs": [
        {
          "output_type": "stream",
          "text": [
            "Drive already mounted at /content/drive; to attempt to forcibly remount, call drive.mount(\"/content/drive\", force_remount=True).\n"
          ],
          "name": "stdout"
        }
      ]
    },
    {
      "cell_type": "code",
      "metadata": {
        "id": "Pdj-hiiu6fA0",
        "colab_type": "code",
        "colab": {}
      },
      "source": [
        "#Get file from text\n",
        "def get_from_git():\n",
        "  #get raw link of data on github\n",
        "  url='https://raw.githubusercontent.com/orestislampridis/Greek-Lyric-Generation/master/char_level_lstm/entexna.txt?token=ANTGNDJE42Q36BYI7IFYRZS6G4TE6'\n",
        "  path_to_file = tf.keras.utils.get_file('shakespeare.txt', url)\n",
        "  text = open(path_to_file, 'rb').read().decode(encoding='utf-8')\n",
        "  return text"
      ],
      "execution_count": 0,
      "outputs": []
    },
    {
      "cell_type": "code",
      "metadata": {
        "id": "Bj2hhqJ81nmE",
        "colab_type": "code",
        "colab": {}
      },
      "source": [
        "text=get_from_drive()"
      ],
      "execution_count": 0,
      "outputs": []
    },
    {
      "cell_type": "code",
      "metadata": {
        "id": "oAuLzCnn7TA6",
        "colab_type": "code",
        "colab": {}
      },
      "source": [
        "def check_text(t):\n",
        "  print('the first 100 characters are:',repr(text[:100]))  #read the first 100 characters of doc\n",
        "  n=len(t)\n",
        "  print ('Length of text: %i characters' %n) #lenght=number of characters in text\n",
        "  v=sorted(set(t)) #making the vocabulary of characters\n",
        "  n_v=len(v) \n",
        "  print('number of unique characters: %i' %n)\n",
        "  return n,v,n_v\n"
      ],
      "execution_count": 0,
      "outputs": []
    },
    {
      "cell_type": "code",
      "metadata": {
        "id": "Y0Imjbgl6pds",
        "colab_type": "code",
        "colab": {}
      },
      "source": [
        "\n",
        "n_char,vocab,n_vocab=check_text(text)\n"
      ],
      "execution_count": 0,
      "outputs": []
    },
    {
      "cell_type": "code",
      "metadata": {
        "id": "bKwsnU9y70xO",
        "colab_type": "code",
        "colab": {}
      },
      "source": [
        "char2int=dict((i, c) for c, i in enumerate(vocab)) #map characters to int\n",
        "int2char=dict((i, c) for i, c in enumerate(vocab)) #map int to char (for \"translation\")\n",
        "\n",
        "#print(char2int) #print the result of mapping the characters in the vocabulary\n"
      ],
      "execution_count": 0,
      "outputs": []
    },
    {
      "cell_type": "code",
      "metadata": {
        "id": "nJBrY-vC3Y2j",
        "colab_type": "code",
        "colab": {}
      },
      "source": [
        "print('\\nMapping text...')\n",
        "text_as_int=np.array([char2int[c] for c in text]) #map the data as int\n",
        "# Show a sample of our data mapped from text to integers\n",
        "print ('%s --[mapped to] -- > %s' %(repr(text[100:119]), text_as_int[100:119]))"
      ],
      "execution_count": 0,
      "outputs": []
    },
    {
      "cell_type": "code",
      "metadata": {
        "id": "p5Zmvuy3-Qgt",
        "colab_type": "code",
        "colab": {}
      },
      "source": [
        "print('\\nMaking samples(sequences) and deviding data to input and target...')\n",
        "seq_length = 100 #how many characters per sequence\n",
        "#i.e seq_length=3 text=καλή, input=καλ, target=ή\n",
        "target=[]\n",
        "input=[]\n",
        "step=5 #this step determines how many sequences we want\n",
        "for i in range (0,n_char-seq_length,step):\n",
        "\n",
        "  input.append(text_as_int[i:i+seq_length]) \n",
        "  target.append(text_as_int[i+seq_length])\n",
        "\n",
        "print('Input and target data example:')\n",
        "print(\"input 2:\", \"\".join([int2char[c] for c in input[2]]))\n",
        "print(\"target 2:\", int2char[target[2]])\n",
        "\n",
        "\n",
        "n_samples=len(input)\n",
        "print(\"\\nNumber of samples:\",n_samples)\n"
      ],
      "execution_count": 0,
      "outputs": []
    },
    {
      "cell_type": "code",
      "metadata": {
        "colab_type": "code",
        "id": "qcTdFDapDZs3",
        "colab": {}
      },
      "source": [
        "print('\\nReshaping data to feed RNN...')\n",
        "#We can use the reshape() function on the NumPy array to reshape this one-dimensional array into a two-dimensional array \n",
        "inputR=np.reshape(input,(n_samples, seq_length))\n",
        "print(\"The input representation of: \", \"\".join([int2char[c] for c in input[0][:13]]),\"is now:\")\n",
        "print(inputR[0][:13])\n",
        "#We can represent the target variables with One Hot Encoding.\n",
        "targetE= np_utils.to_categorical(target)\n",
        "print(\"The target representation of: \",int2char[target[60]],\" is now:\\n\",targetE[60])\n",
        "print(\"/The shape of the input data is:\",inputR.shape)\n",
        "print(\"The shape of the target data is:\",targetE.shape)\n"
      ],
      "execution_count": 0,
      "outputs": []
    },
    {
      "cell_type": "code",
      "metadata": {
        "id": "WM8z_8i5hmSX",
        "colab_type": "code",
        "colab": {}
      },
      "source": [
        "print('\\nBuilding model...')\n",
        "model= Sequential()\n",
        "rnn_size=512\n",
        "#embedding layer\n",
        "model.add(Embedding(n_samples, seq_length,input_length=seq_length, trainable=True))\n",
        "#input layer\n",
        "model.add(Bidirectional( CuDNNLSTM(rnn_size, return_sequences=True)))\n",
        "#Hidden layers \n",
        "model.add(Bidirectional( CuDNNLSTM(rnn_size)))\n",
        "#Dropout layer(avoid overfitting)\n",
        "model.add(Dropout(0.2))\n",
        "#Output layer\n",
        "model.add(Dense(targetE.shape[1]))\n",
        "#Activation function\n",
        "model.add(Activation('softmax'))\n",
        "adam = Adam(lr=0.001)\n",
        "#compile model\n",
        "model.compile(loss = 'categorical_crossentropy', optimizer = 'adam',metrics=['accuracy'])\n",
        "#model details\n",
        "model.summary()\n"
      ],
      "execution_count": 0,
      "outputs": []
    },
    {
      "cell_type": "code",
      "metadata": {
        "id": "LGeEpA4QqCIc",
        "colab_type": "code",
        "colab": {}
      },
      "source": [
        "print('\\nCreating callbacks..')\n",
        "\n",
        "filepath=\"/content/drive/My Drive/Colab Notebooks/CheckpointsLyricsGen/epochs:{epoch:03d}-val_acc:{val_acc:.5f}.hdf5\"\n",
        "#Folder called CheckpointsLyricsGen in drive\n",
        "#each file will be stored with epoch number and validation accuracy\n",
        "#these files contain weights of your neural network\n",
        "\n",
        "print('Callbacks created at:',filepath[:63])\n",
        "\n",
        "checkpoint = ModelCheckpoint(filepath, monitor='val_acc', verbose = 1, save_best_only = False, mode ='max')\n",
        "#the arguments passed in the above code it is monitoring validation accuracy \n",
        "\n",
        "callbacks_list = [checkpoint]\n",
        "#a list so that you can append any other callbacks to this list and pass it in fit function while training \n",
        "#all the methods in the list will be called after every epoch\n"
      ],
      "execution_count": 0,
      "outputs": []
    },
    {
      "cell_type": "code",
      "metadata": {
        "id": "ovKx-ZkBrpzN",
        "colab_type": "code",
        "colab": {}
      },
      "source": [
        "#if we need to train more: uncomment the code below with the correct checkpoint \n",
        "\n",
        "model.load_weights('/content/drive/My Drive/Colab Notebooks/CheckpointsLyricsGen/epochs:015-val_acc:0.47429.hdf5')\n"
      ],
      "execution_count": 0,
      "outputs": []
    },
    {
      "cell_type": "code",
      "metadata": {
        "id": "1L6s4MrP9cBL",
        "colab_type": "code",
        "outputId": "2f41331e-6792-42e8-c76c-2ca97f7493b9",
        "colab": {
          "base_uri": "https://localhost:8080/",
          "height": 35
        }
      },
      "source": [
        "print('\\nTraining model...')"
      ],
      "execution_count": 42,
      "outputs": [
        {
          "output_type": "stream",
          "text": [
            "Training model...\n"
          ],
          "name": "stdout"
        }
      ]
    },
    {
      "cell_type": "code",
      "metadata": {
        "id": "oT_GdvW6r-Nz",
        "colab_type": "code",
        "outputId": "f6e3c2a4-3bf6-48ea-a1cc-8f0641dd3465",
        "colab": {
          "base_uri": "https://localhost:8080/",
          "height": 1000
        }
      },
      "source": [
        "#fit the model\n",
        "model.fit(inputR,\n",
        "          targetE,\n",
        "          epochs=50,\n",
        "          batch_size=128,\n",
        "          shuffle= True,\n",
        "          initial_epoch=16,\n",
        "          callbacks=callbacks_list,\n",
        "          validation_split = 0.2,\n",
        "          validation_data = None,\n",
        "          validation_steps = None)"
      ],
      "execution_count": 57,
      "outputs": [
        {
          "output_type": "stream",
          "text": [
            "Train on 105309 samples, validate on 26328 samples\n",
            "Epoch 17/50\n",
            "105309/105309 [==============================] - 130s 1ms/step - loss: 0.1420 - acc: 0.9561 - val_loss: 3.0253 - val_acc: 0.4717\n",
            "\n",
            "Epoch 00017: saving model to /content/drive/My Drive/Colab Notebooks/CheckpointsLyricsGen/epochs:017-val_acc:0.47167.hdf5\n",
            "Epoch 18/50\n",
            "105309/105309 [==============================] - 130s 1ms/step - loss: 0.1379 - acc: 0.9571 - val_loss: 3.1201 - val_acc: 0.4749\n",
            "\n",
            "Epoch 00018: saving model to /content/drive/My Drive/Colab Notebooks/CheckpointsLyricsGen/epochs:018-val_acc:0.47486.hdf5\n",
            "Epoch 19/50\n",
            "105309/105309 [==============================] - 131s 1ms/step - loss: 0.1265 - acc: 0.9605 - val_loss: 3.1889 - val_acc: 0.4723\n",
            "\n",
            "Epoch 00019: saving model to /content/drive/My Drive/Colab Notebooks/CheckpointsLyricsGen/epochs:019-val_acc:0.47227.hdf5\n",
            "Epoch 20/50\n",
            "105309/105309 [==============================] - 130s 1ms/step - loss: 0.1199 - acc: 0.9622 - val_loss: 3.2547 - val_acc: 0.4716\n",
            "\n",
            "Epoch 00020: saving model to /content/drive/My Drive/Colab Notebooks/CheckpointsLyricsGen/epochs:020-val_acc:0.47159.hdf5\n",
            "Epoch 21/50\n",
            "105309/105309 [==============================] - 130s 1ms/step - loss: 0.1109 - acc: 0.9653 - val_loss: 3.3171 - val_acc: 0.4728\n",
            "\n",
            "Epoch 00021: saving model to /content/drive/My Drive/Colab Notebooks/CheckpointsLyricsGen/epochs:021-val_acc:0.47277.hdf5\n",
            "Epoch 22/50\n",
            "105309/105309 [==============================] - 130s 1ms/step - loss: 0.1189 - acc: 0.9621 - val_loss: 3.3573 - val_acc: 0.4719\n",
            "\n",
            "Epoch 00022: saving model to /content/drive/My Drive/Colab Notebooks/CheckpointsLyricsGen/epochs:022-val_acc:0.47189.hdf5\n",
            "Epoch 23/50\n",
            "105309/105309 [==============================] - 130s 1ms/step - loss: 0.1129 - acc: 0.9640 - val_loss: 3.3854 - val_acc: 0.4761\n",
            "\n",
            "Epoch 00023: saving model to /content/drive/My Drive/Colab Notebooks/CheckpointsLyricsGen/epochs:023-val_acc:0.47607.hdf5\n",
            "Epoch 24/50\n",
            "105309/105309 [==============================] - 130s 1ms/step - loss: 0.1077 - acc: 0.9653 - val_loss: 3.3932 - val_acc: 0.4735\n",
            "\n",
            "Epoch 00024: saving model to /content/drive/My Drive/Colab Notebooks/CheckpointsLyricsGen/epochs:024-val_acc:0.47353.hdf5\n",
            "Epoch 25/50\n",
            "105309/105309 [==============================] - 130s 1ms/step - loss: 0.1091 - acc: 0.9639 - val_loss: 3.4541 - val_acc: 0.4768\n",
            "\n",
            "Epoch 00025: saving model to /content/drive/My Drive/Colab Notebooks/CheckpointsLyricsGen/epochs:025-val_acc:0.47675.hdf5\n",
            "Epoch 26/50\n",
            "105309/105309 [==============================] - 130s 1ms/step - loss: 0.0982 - acc: 0.9683 - val_loss: 3.4999 - val_acc: 0.4713\n",
            "\n",
            "Epoch 00026: saving model to /content/drive/My Drive/Colab Notebooks/CheckpointsLyricsGen/epochs:026-val_acc:0.47129.hdf5\n",
            "Epoch 27/50\n",
            "105309/105309 [==============================] - 130s 1ms/step - loss: 0.1060 - acc: 0.9655 - val_loss: 3.5019 - val_acc: 0.4733\n",
            "\n",
            "Epoch 00027: saving model to /content/drive/My Drive/Colab Notebooks/CheckpointsLyricsGen/epochs:027-val_acc:0.47326.hdf5\n",
            "Epoch 28/50\n",
            "105309/105309 [==============================] - 131s 1ms/step - loss: 0.1064 - acc: 0.9656 - val_loss: 3.5365 - val_acc: 0.4716\n",
            "\n",
            "Epoch 00028: saving model to /content/drive/My Drive/Colab Notebooks/CheckpointsLyricsGen/epochs:028-val_acc:0.47159.hdf5\n",
            "Epoch 29/50\n",
            "105309/105309 [==============================] - 131s 1ms/step - loss: 0.0987 - acc: 0.9683 - val_loss: 3.5954 - val_acc: 0.4717\n",
            "\n",
            "Epoch 00029: saving model to /content/drive/My Drive/Colab Notebooks/CheckpointsLyricsGen/epochs:029-val_acc:0.47170.hdf5\n",
            "Epoch 30/50\n",
            "105309/105309 [==============================] - 130s 1ms/step - loss: 0.0983 - acc: 0.9680 - val_loss: 3.6224 - val_acc: 0.4742\n",
            "\n",
            "Epoch 00030: saving model to /content/drive/My Drive/Colab Notebooks/CheckpointsLyricsGen/epochs:030-val_acc:0.47425.hdf5\n",
            "Epoch 31/50\n",
            "105309/105309 [==============================] - 131s 1ms/step - loss: 0.1006 - acc: 0.9669 - val_loss: 3.6166 - val_acc: 0.4708\n",
            "\n",
            "Epoch 00031: saving model to /content/drive/My Drive/Colab Notebooks/CheckpointsLyricsGen/epochs:031-val_acc:0.47083.hdf5\n",
            "Epoch 32/50\n",
            "105309/105309 [==============================] - 131s 1ms/step - loss: 0.1021 - acc: 0.9664 - val_loss: 3.6431 - val_acc: 0.4759\n",
            "\n",
            "Epoch 00032: saving model to /content/drive/My Drive/Colab Notebooks/CheckpointsLyricsGen/epochs:032-val_acc:0.47592.hdf5\n",
            "Epoch 33/50\n",
            "105309/105309 [==============================] - 131s 1ms/step - loss: 0.0976 - acc: 0.9675 - val_loss: 3.6550 - val_acc: 0.4700\n",
            "\n",
            "Epoch 00033: saving model to /content/drive/My Drive/Colab Notebooks/CheckpointsLyricsGen/epochs:033-val_acc:0.46996.hdf5\n",
            "Epoch 34/50\n",
            "105309/105309 [==============================] - 131s 1ms/step - loss: 0.0972 - acc: 0.9686 - val_loss: 3.6963 - val_acc: 0.4731\n",
            "\n",
            "Epoch 00034: saving model to /content/drive/My Drive/Colab Notebooks/CheckpointsLyricsGen/epochs:034-val_acc:0.47315.hdf5\n",
            "Epoch 35/50\n",
            "105309/105309 [==============================] - 131s 1ms/step - loss: 0.0966 - acc: 0.9678 - val_loss: 3.7199 - val_acc: 0.4700\n",
            "\n",
            "Epoch 00035: saving model to /content/drive/My Drive/Colab Notebooks/CheckpointsLyricsGen/epochs:035-val_acc:0.47003.hdf5\n",
            "Epoch 36/50\n",
            "105309/105309 [==============================] - 131s 1ms/step - loss: 0.0958 - acc: 0.9688 - val_loss: 3.7344 - val_acc: 0.4757\n",
            "\n",
            "Epoch 00036: saving model to /content/drive/My Drive/Colab Notebooks/CheckpointsLyricsGen/epochs:036-val_acc:0.47565.hdf5\n",
            "Epoch 37/50\n",
            "105309/105309 [==============================] - 131s 1ms/step - loss: 0.0945 - acc: 0.9694 - val_loss: 3.7135 - val_acc: 0.4692\n",
            "\n",
            "Epoch 00037: saving model to /content/drive/My Drive/Colab Notebooks/CheckpointsLyricsGen/epochs:037-val_acc:0.46916.hdf5\n",
            "Epoch 38/50\n",
            "105309/105309 [==============================] - 131s 1ms/step - loss: 0.0949 - acc: 0.9686 - val_loss: 3.7461 - val_acc: 0.4749\n",
            "\n",
            "Epoch 00038: saving model to /content/drive/My Drive/Colab Notebooks/CheckpointsLyricsGen/epochs:038-val_acc:0.47486.hdf5\n",
            "Epoch 39/50\n",
            "105309/105309 [==============================] - 131s 1ms/step - loss: 0.0969 - acc: 0.9683 - val_loss: 3.7715 - val_acc: 0.4712\n",
            "\n",
            "Epoch 00039: saving model to /content/drive/My Drive/Colab Notebooks/CheckpointsLyricsGen/epochs:039-val_acc:0.47117.hdf5\n",
            "Epoch 40/50\n",
            "105309/105309 [==============================] - 131s 1ms/step - loss: 0.0977 - acc: 0.9680 - val_loss: 3.7771 - val_acc: 0.4744\n",
            "\n",
            "Epoch 00040: saving model to /content/drive/My Drive/Colab Notebooks/CheckpointsLyricsGen/epochs:040-val_acc:0.47444.hdf5\n",
            "Epoch 41/50\n",
            "105309/105309 [==============================] - 131s 1ms/step - loss: 0.0912 - acc: 0.9697 - val_loss: 3.8157 - val_acc: 0.4738\n",
            "\n",
            "Epoch 00041: saving model to /content/drive/My Drive/Colab Notebooks/CheckpointsLyricsGen/epochs:041-val_acc:0.47383.hdf5\n",
            "Epoch 42/50\n",
            "105309/105309 [==============================] - 131s 1ms/step - loss: 0.0946 - acc: 0.9684 - val_loss: 3.8071 - val_acc: 0.4732\n",
            "\n",
            "Epoch 00042: saving model to /content/drive/My Drive/Colab Notebooks/CheckpointsLyricsGen/epochs:042-val_acc:0.47318.hdf5\n",
            "Epoch 43/50\n",
            "105309/105309 [==============================] - 131s 1ms/step - loss: 0.0893 - acc: 0.9707 - val_loss: 3.8298 - val_acc: 0.4717\n",
            "\n",
            "Epoch 00043: saving model to /content/drive/My Drive/Colab Notebooks/CheckpointsLyricsGen/epochs:043-val_acc:0.47167.hdf5\n",
            "Epoch 44/50\n",
            "105309/105309 [==============================] - 131s 1ms/step - loss: 0.1011 - acc: 0.9666 - val_loss: 3.8256 - val_acc: 0.4690\n",
            "\n",
            "Epoch 00044: saving model to /content/drive/My Drive/Colab Notebooks/CheckpointsLyricsGen/epochs:044-val_acc:0.46904.hdf5\n",
            "Epoch 45/50\n",
            "105309/105309 [==============================] - 131s 1ms/step - loss: 0.0954 - acc: 0.9685 - val_loss: 3.8549 - val_acc: 0.4751\n",
            "\n",
            "Epoch 00045: saving model to /content/drive/My Drive/Colab Notebooks/CheckpointsLyricsGen/epochs:045-val_acc:0.47508.hdf5\n",
            "Epoch 46/50\n",
            "105309/105309 [==============================] - 131s 1ms/step - loss: 0.0872 - acc: 0.9716 - val_loss: 3.8410 - val_acc: 0.4702\n",
            "\n",
            "Epoch 00046: saving model to /content/drive/My Drive/Colab Notebooks/CheckpointsLyricsGen/epochs:046-val_acc:0.47018.hdf5\n",
            "Epoch 47/50\n",
            "105309/105309 [==============================] - 131s 1ms/step - loss: 0.0916 - acc: 0.9696 - val_loss: 3.8507 - val_acc: 0.4709\n",
            "\n",
            "Epoch 00047: saving model to /content/drive/My Drive/Colab Notebooks/CheckpointsLyricsGen/epochs:047-val_acc:0.47094.hdf5\n",
            "Epoch 48/50\n",
            "105309/105309 [==============================] - 131s 1ms/step - loss: 0.0955 - acc: 0.9688 - val_loss: 3.8784 - val_acc: 0.4699\n",
            "\n",
            "Epoch 00048: saving model to /content/drive/My Drive/Colab Notebooks/CheckpointsLyricsGen/epochs:048-val_acc:0.46988.hdf5\n",
            "Epoch 49/50\n",
            "105309/105309 [==============================] - 131s 1ms/step - loss: 0.0944 - acc: 0.9688 - val_loss: 3.9058 - val_acc: 0.4693\n",
            "\n",
            "Epoch 00049: saving model to /content/drive/My Drive/Colab Notebooks/CheckpointsLyricsGen/epochs:049-val_acc:0.46935.hdf5\n",
            "Epoch 50/50\n",
            "105309/105309 [==============================] - 131s 1ms/step - loss: 0.0943 - acc: 0.9685 - val_loss: 3.9013 - val_acc: 0.4695\n",
            "\n",
            "Epoch 00050: saving model to /content/drive/My Drive/Colab Notebooks/CheckpointsLyricsGen/epochs:050-val_acc:0.46954.hdf5\n"
          ],
          "name": "stdout"
        },
        {
          "output_type": "execute_result",
          "data": {
            "text/plain": [
              "<keras.callbacks.History at 0x7fc6002b01d0>"
            ]
          },
          "metadata": {
            "tags": []
          },
          "execution_count": 57
        }
      ]
    },
    {
      "cell_type": "code",
      "metadata": {
        "id": "ooZKAk91bhaD",
        "colab_type": "code",
        "colab": {}
      },
      "source": [
        "#Load weights for generation\n",
        "                                                                                     #choose the right filename!!!\n",
        "model.load_weights('/content/drive/My Drive/Colab Notebooks/CheckpointsLyricsGen/epochs:005-val_acc:0.50984.hdf5')                                                                                    \n",
        "#compile model                                                                       \n",
        "model.compile(loss = 'categorical_crossentropy', optimizer = 'adam')"
      ],
      "execution_count": 0,
      "outputs": []
    },
    {
      "cell_type": "code",
      "metadata": {
        "id": "ZQMUCc_36aqJ",
        "colab_type": "code",
        "colab": {}
      },
      "source": [
        "print('\\nGenerating text...')\n",
        "\n",
        "def random_seed():\n",
        "  start = np.random.randint(0, len(input)-1)\n",
        "  random_pattern = input[start]\n",
        "  print('Seed : ')\n",
        "  print(\"\\\"\",''.join([int2char[v] for v in random_pattern]), \"\\\"\\n\")\n",
        "  return random_pattern\n",
        "\n",
        "def set_seed():\n",
        "  seed=\"Θάλασσα\"\n",
        "  seed_int=([char2int[c] for c in seed])\n",
        "  pad_len=seq_length-len(seed_int)   \n",
        "  set_pattern=np.pad(seed_int,(pad_len,0),constant_values=char2int[\" \"]) #we need to pad the seed so it can be the correct shape\n",
        "  return set_pattern\n",
        "\n",
        "\n",
        "\n",
        "pattern = random_seed()   #Choose what type of seed we want\n",
        "\n",
        "\n",
        "\n",
        "# How many characters you want to generate\n",
        "generated_characters = 300\n",
        "\n",
        "results=[]\n",
        "\n",
        "for i in range(generated_characters):\n",
        "    x = np.reshape(pattern, ( 1, len(pattern)))\n",
        "    \n",
        "    prediction = model.predict(x,verbose = 0)\n",
        "        \n",
        "    index = np.argmax(prediction)\n",
        "\n",
        "    result = int2char[index]\n",
        "\n",
        "    results.append(result)\n",
        "        \n",
        "    pattern = np.append(pattern,index)\n",
        "    \n",
        "    pattern = pattern[1:len(pattern)]\n",
        "print(\"Generated text:\")\n",
        "print(\"\\\"\",''.join(results), \"\\\"\\n\")    \n",
        "print('\\nDone')"
      ],
      "execution_count": 0,
      "outputs": []
    }
  ]
}
